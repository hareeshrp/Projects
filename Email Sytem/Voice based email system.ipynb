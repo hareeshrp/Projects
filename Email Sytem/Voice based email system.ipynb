{
 "cells": [
  {
   "cell_type": "code",
   "execution_count": 4,
   "metadata": {},
   "outputs": [
    {
     "name": "stdout",
     "output_type": "stream",
     "text": [
      "Listening\n",
      "Harish\n",
      "hareeshkanna2002@gmail.com\n",
      "Listening\n",
      "voice based email system\n",
      "Listening\n",
      "this application provides a voice based mailing service where they could read and send mail without typing without any guidance through the Gmail account\n"
     ]
    }
   ],
   "source": [
    "#Simple mail transfer protocol\n",
    "import smtplib\n",
    "import speech_recognition as sr\n",
    "#Python text to speech converter\n",
    "import pyttsx3\n",
    "from email.message import EmailMessage\n",
    "\n",
    "\n",
    "listener = sr.Recognizer()\n",
    "engine = pyttsx3.init()\n",
    "\n",
    "def send_email(email, subject, body):\n",
    "    server = smtplib.SMTP('smtp.gmail.com', 587)\n",
    "    server.starttls()\n",
    "    server.login('incognitoz2415@gmail.com',\n",
    "             'HareeshAarthy02$',)\n",
    "    mail = EmailMessage()\n",
    "    mail['From'] = 'incognitoz2415@gmail.com'\n",
    "    mail['To'] = email\n",
    "    mail['Subject'] = subject\n",
    "    mail.set_content(body)\n",
    "    server.send_message(mail)\n",
    "    \n",
    "def talk(text):\n",
    "    engine.say(text)\n",
    "    engine.runAndWait()\n",
    "    \n",
    "def get_info():\n",
    "    try:\n",
    "        with sr.Microphone() as source:\n",
    "            print('Listening')\n",
    "            voice = listener.listen(source)\n",
    "            info = listener.recognize_google(voice)\n",
    "            print(info)\n",
    "            return info\n",
    "    except:\n",
    "        pass\n",
    "emails = {'Harish':'hareeshkanna2002@gmail.com'}\n",
    "def get_email_info():\n",
    "    talk('To whom you want to send email')\n",
    "    name = get_info()\n",
    "    receiver = emails[name]\n",
    "    print(receiver)\n",
    "    talk('What is your subject')\n",
    "    subject = get_info()\n",
    "    talk('Say the content of your mail')\n",
    "    body = get_info()\n",
    "    send_email(receiver, subject, body)\n",
    "get_email_info()\n",
    "https://lifeselector.com/model/view/id/3592"
   ]
  },
  {
   "cell_type": "code",
   "execution_count": null,
   "metadata": {},
   "outputs": [],
   "source": []
  }
 ],
 "metadata": {
  "kernelspec": {
   "display_name": "Python 3",
   "language": "python",
   "name": "python3"
  },
  "language_info": {
   "codemirror_mode": {
    "name": "ipython",
    "version": 3
   },
   "file_extension": ".py",
   "mimetype": "text/x-python",
   "name": "python",
   "nbconvert_exporter": "python",
   "pygments_lexer": "ipython3",
   "version": "3.8.5"
  }
 },
 "nbformat": 4,
 "nbformat_minor": 4
}
